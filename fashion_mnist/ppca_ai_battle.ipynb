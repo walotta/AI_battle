{
  "nbformat": 4,
  "nbformat_minor": 0,
  "metadata": {
    "accelerator": "GPU",
    "colab": {
      "name": "ppca_ai_battle.ipynb",
      "provenance": [],
      "collapsed_sections": [],
      "toc_visible": true
    },
    "kernelspec": {
      "display_name": "Python 3",
      "language": "python",
      "name": "python3"
    },
    "language_info": {
      "codemirror_mode": {
        "name": "ipython",
        "version": 3
      },
      "file_extension": ".py",
      "mimetype": "text/x-python",
      "name": "python",
      "nbconvert_exporter": "python",
      "pygments_lexer": "ipython3",
      "version": "3.7.6"
    }
  },
  "cells": [
    {
      "cell_type": "markdown",
      "metadata": {
        "id": "sGhSo-BjUnq2"
      },
      "source": [
        "# PPCA work in 2021 "
      ]
    },
    {
      "cell_type": "markdown",
      "metadata": {
        "id": "8sL0xPEkTuHF"
      },
      "source": [
        "## learn TensorFlow"
      ]
    },
    {
      "cell_type": "code",
      "metadata": {
        "id": "OhSmXOG1gGaw"
      },
      "source": [
        "import tensorflow as tf\n",
        "from tensorflow import keras\n",
        "import numpy as np\n",
        "import matplotlib.pyplot as plt"
      ],
      "execution_count": null,
      "outputs": []
    },
    {
      "cell_type": "markdown",
      "metadata": {
        "id": "Yu0TeFxSgGax"
      },
      "source": [
        "### 数据集\n",
        "\n",
        "我们采用了fashion Mnist"
      ]
    },
    {
      "cell_type": "code",
      "metadata": {
        "id": "PkuwPdTfgGax"
      },
      "source": [
        "fashion_mnist = keras.datasets.fashion_mnist\n",
        "(train_images, train_labels), (test_images, test_labels) = fashion_mnist.load_data()\n",
        "class_names = ['T-shirt/top', 'Trouser', 'Pullover', 'Dress', 'Coat',\n",
        "               'Sandal', 'Shirt', 'Sneaker', 'Bag', 'Ankle boot']"
      ],
      "execution_count": null,
      "outputs": []
    },
    {
      "cell_type": "markdown",
      "metadata": {
        "id": "Dy0tynBxgGax"
      },
      "source": [
        "要对数据进行一定的处理，将图片数据归一化"
      ]
    },
    {
      "cell_type": "code",
      "metadata": {
        "id": "Sm6tPEu2gGay"
      },
      "source": [
        "train_images = train_images / 255.0\n",
        "test_images = test_images / 255.0"
      ],
      "execution_count": null,
      "outputs": []
    },
    {
      "cell_type": "markdown",
      "metadata": {
        "id": "drVPJZvbgGay"
      },
      "source": [
        "### 视觉工具"
      ]
    },
    {
      "cell_type": "code",
      "metadata": {
        "id": "9J80FziLgGay"
      },
      "source": [
        "def visualize(histories):\n",
        "    accuracy = []\n",
        "    val_accuracy = []\n",
        "    loss = []\n",
        "    val_loss = []\n",
        "  \n",
        "    for history in histories:\n",
        "        accuracy.append(history.history['accuracy'])\n",
        "        val_accuracy.append(history.history['val_accuracy'])\n",
        "        loss.append(history.history['loss'])\n",
        "        val_loss.append(history.history['val_loss'])\n",
        "  \n",
        "    accuracy = np.mean(accuracy, axis=0)\n",
        "    val_accuracy = np.mean(val_accuracy, axis=0)\n",
        "    loss = np.mean(loss, axis=0)\n",
        "    val_loss = np.mean(val_loss, axis=0)\n",
        "    epochs = range(1, len(loss) + 1)\n",
        "  \n",
        "    # 暂时没有找到对 k-fold 的 Early stopping 的方法，只好手动了。\n",
        "    # 如果在一轮后的10轮内，val_loss不再下降，给出 Overfitting warning\n",
        "    x = []\n",
        "    y = []\n",
        "    patience = 10\n",
        "    i = 0\n",
        "    for i in range(len(val_loss) - patience):\n",
        "        flag = True\n",
        "        for j in range(1, patience + 1):\n",
        "            if val_loss[i] * 0.98 > val_loss[i + j]: # 在之后的10轮中，下降不超过2%，视为过拟合\n",
        "                flag = False\n",
        "                break \n",
        "        if flag ==True:\n",
        "            x.append(i + 1)\n",
        "            y.append(val_loss[i])\n",
        "            print('Overfitting warning at epoch %d, val_loss: %.3f, val_accuracy: %.3f' % (i+1, val_loss[i], val_accuracy[i]))  \n",
        "            break\n",
        "\n",
        "    plt.figure(figsize=(12, 4))\n",
        "\n",
        "    plt.subplot(1,2,1)\n",
        "    plt.plot(epochs, loss, 'o', label = 'loss')\n",
        "    plt.plot(epochs,val_loss, label = 'val_loss')\n",
        "    plt.scatter(x,y,c='r')\n",
        "    plt.title('Training and validation loss')\n",
        "    plt.xlabel('Epochs')\n",
        "    plt.ylabel('Loss')\n",
        "    plt.legend()\n",
        "    plt.grid(True)\n",
        "\n",
        "    plt.subplot(1,2,2)\n",
        "    plt.plot(epochs, accuracy, 'o', label = 'accuracy')\n",
        "    plt.plot(epochs,val_accuracy, label = 'val_accuracy')\n",
        "    plt.scatter(x, [val_accuracy[x[0]-1]], c='r')\n",
        "    plt.title('Training and validation accuracy')\n",
        "    plt.xlabel('Epochs')\n",
        "    plt.ylabel('Accuracy')\n",
        "    plt.legend()\n",
        "    plt.grid(True)\n",
        "\n",
        "    plt.show()"
      ],
      "execution_count": null,
      "outputs": []
    },
    {
      "cell_type": "markdown",
      "metadata": {
        "id": "vEKA7FdBgGaz"
      },
      "source": [
        "### 训练模型\n",
        "\n",
        "为了解决这个图像分类问题，我们采用了三种模型，分别是感知器、DNN、CNN"
      ]
    },
    {
      "cell_type": "markdown",
      "metadata": {
        "id": "383_faeAUxg_"
      },
      "source": [
        "#### 线性分类器\n",
        "\n",
        "这里采用了单层神经网络，即感知器，是一种线性分类器\n",
        "\n"
      ]
    },
    {
      "cell_type": "markdown",
      "metadata": {
        "id": "9WFi4QKTgGaz"
      },
      "source": [
        "##### 构建模型\n",
        "总共有两层，一层负责将图像转换成向量，一层是softmax的输出层"
      ]
    },
    {
      "cell_type": "code",
      "metadata": {
        "id": "sPejusRpgGaz"
      },
      "source": [
        "def build_model_Perceptron():\n",
        "    \n",
        "    # 设置层\n",
        "    model = keras.Sequential([\n",
        "        keras.layers.Flatten(input_shape=(28, 28)),# 将图片处理成为向量\n",
        "        keras.layers.Dense(10)# 输出结果层，使用softmax\n",
        "    ])\n",
        "    \n",
        "    # 编译模型\n",
        "    model.compile(optimizer='adam',\n",
        "              loss=tf.keras.losses.SparseCategoricalCrossentropy(from_logits=True),\n",
        "              metrics=['accuracy'])\n",
        "    return model"
      ],
      "execution_count": null,
      "outputs": []
    },
    {
      "cell_type": "markdown",
      "metadata": {
        "id": "uIUzpyOZgGa0"
      },
      "source": [
        "##### 馈送数据  && 评估"
      ]
    },
    {
      "cell_type": "code",
      "metadata": {
        "id": "PrO-_pOggGa0"
      },
      "source": [
        "def fit_data_Perceptron(model):\n",
        "    history = model.fit(train_images, train_labels, epochs=10, \n",
        "                    validation_data=(test_images, test_labels), verbose=1)\n",
        "    return history"
      ],
      "execution_count": null,
      "outputs": []
    },
    {
      "cell_type": "markdown",
      "metadata": {
        "id": "a0ej43N5gGa0"
      },
      "source": [
        "##### 评估模型"
      ]
    },
    {
      "cell_type": "code",
      "metadata": {
        "id": "B66K4dhHgGa0"
      },
      "source": [
        "def value_model_Perceptron(model):\n",
        "    test_loss, test_acc = model.evaluate(test_images,  test_labels, verbose=2)\n",
        "    print('\\nTest accuracy:', test_acc)"
      ],
      "execution_count": null,
      "outputs": []
    },
    {
      "cell_type": "markdown",
      "metadata": {
        "id": "ZyfYRup0gGa0"
      },
      "source": [
        "##### 运行模型，查看结果"
      ]
    },
    {
      "cell_type": "code",
      "metadata": {
        "id": "wzv4jxxFgGa1",
        "outputId": "d06bdf4a-2c61-4a2c-822f-95ccd818b341"
      },
      "source": [
        "with tf.device(\"/cpu:0\"):\n",
        "    model_per = build_model_Perceptron()\n",
        "    fit_data_Perceptron(model_per)\n",
        "    value_model_Perceptron(model_per)"
      ],
      "execution_count": null,
      "outputs": [
        {
          "output_type": "stream",
          "text": [
            "Epoch 1/10\n",
            "1875/1875 [==============================] - 1s 526us/step - loss: 0.7805 - accuracy: 0.7347 - val_loss: 0.5160 - val_accuracy: 0.8182\n",
            "Epoch 2/10\n",
            "1875/1875 [==============================] - 1s 474us/step - loss: 0.4695 - accuracy: 0.8402 - val_loss: 0.4863 - val_accuracy: 0.8355\n",
            "Epoch 3/10\n",
            "1875/1875 [==============================] - 1s 481us/step - loss: 0.4388 - accuracy: 0.8485 - val_loss: 0.4570 - val_accuracy: 0.8414\n",
            "Epoch 4/10\n",
            "1875/1875 [==============================] - 1s 475us/step - loss: 0.4228 - accuracy: 0.8549 - val_loss: 0.4586 - val_accuracy: 0.8421\n",
            "Epoch 5/10\n",
            "1875/1875 [==============================] - 1s 478us/step - loss: 0.4124 - accuracy: 0.8571 - val_loss: 0.4555 - val_accuracy: 0.8413\n",
            "Epoch 6/10\n",
            "1875/1875 [==============================] - 1s 479us/step - loss: 0.4094 - accuracy: 0.8583 - val_loss: 0.4506 - val_accuracy: 0.8426\n",
            "Epoch 7/10\n",
            "1875/1875 [==============================] - 1s 474us/step - loss: 0.4016 - accuracy: 0.8615 - val_loss: 0.4555 - val_accuracy: 0.8416\n",
            "Epoch 8/10\n",
            "1875/1875 [==============================] - 1s 515us/step - loss: 0.3860 - accuracy: 0.8686 - val_loss: 0.4405 - val_accuracy: 0.8463\n",
            "Epoch 9/10\n",
            "1875/1875 [==============================] - 1s 482us/step - loss: 0.3912 - accuracy: 0.8627 - val_loss: 0.4482 - val_accuracy: 0.8423\n",
            "Epoch 10/10\n",
            "1875/1875 [==============================] - 1s 482us/step - loss: 0.3995 - accuracy: 0.8602 - val_loss: 0.4703 - val_accuracy: 0.8349\n",
            "313/313 - 0s - loss: 0.4703 - accuracy: 0.8349\n",
            "\n",
            "Test accuracy: 0.8349000215530396\n"
          ],
          "name": "stdout"
        }
      ]
    },
    {
      "cell_type": "markdown",
      "metadata": {
        "id": "jI9UHzPlnXbt"
      },
      "source": [
        "### DNN \n",
        "\n",
        "最高精确度有限"
      ]
    },
    {
      "cell_type": "markdown",
      "metadata": {
        "id": "Mpdx5oTxgGa2"
      },
      "source": [
        "##### 构建模型\n",
        "总共有三层，一层负责将图像转换成向量，中间有一个隐藏层，一层是softmax的输出层"
      ]
    },
    {
      "cell_type": "code",
      "metadata": {
        "id": "ZUyyjIO6gGa2"
      },
      "source": [
        "def build_model_DNN():\n",
        "    model = keras.Sequential([\n",
        "        keras.layers.Flatten(input_shape=(28, 28)),\n",
        "        keras.layers.Dense(256, activation='relu'),\n",
        "        keras.layers.Dropout(0.4),\n",
        "        keras.layers.Dense(10, activation='softmax')\n",
        "    ])\n",
        "    \n",
        "    \n",
        "    # 编译模型\n",
        "    model.compile(optimizer='adam',\n",
        "                  loss=tf.keras.losses.SparseCategoricalCrossentropy(from_logits=True),\n",
        "                  metrics=['accuracy'])\n",
        "    return model"
      ],
      "execution_count": null,
      "outputs": []
    },
    {
      "cell_type": "markdown",
      "metadata": {
        "id": "szDAywUjgGa2"
      },
      "source": [
        "##### 馈送数据"
      ]
    },
    {
      "cell_type": "code",
      "metadata": {
        "id": "C18s8cwQgGa2"
      },
      "source": [
        "def fit_data_DNN(model):\n",
        "    history = model.fit(train_images, train_labels, epochs=40, batch_size=128, \n",
        "                    validation_data=(test_images, test_labels), verbose=1)\n",
        "    return history"
      ],
      "execution_count": null,
      "outputs": []
    },
    {
      "cell_type": "markdown",
      "metadata": {
        "id": "-gvyQjysgGa3"
      },
      "source": [
        "##### 评估模型"
      ]
    },
    {
      "cell_type": "code",
      "metadata": {
        "id": "0pieRRU1gGa3"
      },
      "source": [
        "def value_model_DNN(model):\n",
        "    test_loss, test_acc = model.evaluate(test_images, test_labels, verbose=2)\n",
        "    print('\\nTest accuracy:', test_acc)"
      ],
      "execution_count": null,
      "outputs": []
    },
    {
      "cell_type": "markdown",
      "metadata": {
        "id": "EnjRl94vgGa3"
      },
      "source": [
        "##### 运行模型，查看结果"
      ]
    },
    {
      "cell_type": "code",
      "metadata": {
        "scrolled": true,
        "id": "9cICuLSbgGa3",
        "outputId": "220280f6-117a-4e93-c209-cce00931ea88"
      },
      "source": [
        "with tf.device(\"/cpu:0\"):\n",
        "    model_dnn = build_model_DNN()\n",
        "    fit_data_DNN(model_dnn)\n",
        "    value_model_DNN(model_dnn)"
      ],
      "execution_count": null,
      "outputs": [
        {
          "output_type": "stream",
          "text": [
            "Epoch 1/40\n",
            "469/469 [==============================] - 1s 2ms/step - loss: 0.7747 - accuracy: 0.7278 - val_loss: 0.4424 - val_accuracy: 0.8422\n",
            "Epoch 2/40\n",
            "469/469 [==============================] - 1s 1ms/step - loss: 0.4346 - accuracy: 0.8449 - val_loss: 0.4038 - val_accuracy: 0.8541\n",
            "Epoch 3/40\n",
            "469/469 [==============================] - 1s 1ms/step - loss: 0.3869 - accuracy: 0.8613 - val_loss: 0.3787 - val_accuracy: 0.8635\n",
            "Epoch 4/40\n",
            "469/469 [==============================] - 1s 1ms/step - loss: 0.3711 - accuracy: 0.8663 - val_loss: 0.3633 - val_accuracy: 0.8721\n",
            "Epoch 5/40\n",
            "469/469 [==============================] - ETA: 0s - loss: 0.3454 - accuracy: 0.87 - 1s 1ms/step - loss: 0.3456 - accuracy: 0.8721 - val_loss: 0.3612 - val_accuracy: 0.8692\n",
            "Epoch 6/40\n",
            "469/469 [==============================] - 1s 1ms/step - loss: 0.3341 - accuracy: 0.8771 - val_loss: 0.3520 - val_accuracy: 0.8718\n",
            "Epoch 7/40\n",
            "469/469 [==============================] - 1s 1ms/step - loss: 0.3294 - accuracy: 0.8776 - val_loss: 0.3523 - val_accuracy: 0.8709\n",
            "Epoch 8/40\n",
            "469/469 [==============================] - 1s 1ms/step - loss: 0.3175 - accuracy: 0.8844 - val_loss: 0.3375 - val_accuracy: 0.8783\n",
            "Epoch 9/40\n",
            "469/469 [==============================] - 1s 1ms/step - loss: 0.3096 - accuracy: 0.8856 - val_loss: 0.3371 - val_accuracy: 0.8794\n",
            "Epoch 10/40\n",
            "469/469 [==============================] - 1s 1ms/step - loss: 0.2987 - accuracy: 0.8875 - val_loss: 0.3335 - val_accuracy: 0.8792\n",
            "Epoch 11/40\n",
            "469/469 [==============================] - 1s 1ms/step - loss: 0.2960 - accuracy: 0.8904 - val_loss: 0.3376 - val_accuracy: 0.8776\n",
            "Epoch 12/40\n",
            "469/469 [==============================] - 1s 1ms/step - loss: 0.2960 - accuracy: 0.8902 - val_loss: 0.3243 - val_accuracy: 0.8850\n",
            "Epoch 13/40\n",
            "469/469 [==============================] - 1s 1ms/step - loss: 0.2850 - accuracy: 0.8944 - val_loss: 0.3275 - val_accuracy: 0.8843\n",
            "Epoch 14/40\n",
            "469/469 [==============================] - 1s 1ms/step - loss: 0.2848 - accuracy: 0.8940 - val_loss: 0.3255 - val_accuracy: 0.8832\n",
            "Epoch 15/40\n",
            "469/469 [==============================] - 1s 1ms/step - loss: 0.2776 - accuracy: 0.8970 - val_loss: 0.3197 - val_accuracy: 0.8859\n",
            "Epoch 16/40\n",
            "469/469 [==============================] - 1s 1ms/step - loss: 0.2700 - accuracy: 0.8992 - val_loss: 0.3166 - val_accuracy: 0.8862\n",
            "Epoch 17/40\n",
            "469/469 [==============================] - 1s 1ms/step - loss: 0.2686 - accuracy: 0.9002 - val_loss: 0.3274 - val_accuracy: 0.8859\n",
            "Epoch 18/40\n",
            "469/469 [==============================] - 1s 1ms/step - loss: 0.2664 - accuracy: 0.9003 - val_loss: 0.3222 - val_accuracy: 0.8846\n",
            "Epoch 19/40\n",
            "469/469 [==============================] - 1s 1ms/step - loss: 0.2571 - accuracy: 0.9031 - val_loss: 0.3236 - val_accuracy: 0.8829\n",
            "Epoch 20/40\n",
            "469/469 [==============================] - 1s 1ms/step - loss: 0.2565 - accuracy: 0.9039 - val_loss: 0.3250 - val_accuracy: 0.8864\n",
            "Epoch 21/40\n",
            "469/469 [==============================] - 1s 1ms/step - loss: 0.2566 - accuracy: 0.9032 - val_loss: 0.3227 - val_accuracy: 0.8888\n",
            "Epoch 22/40\n",
            "469/469 [==============================] - 1s 1ms/step - loss: 0.2464 - accuracy: 0.9083 - val_loss: 0.3269 - val_accuracy: 0.8867\n",
            "Epoch 23/40\n",
            "469/469 [==============================] - 1s 1ms/step - loss: 0.2438 - accuracy: 0.9073 - val_loss: 0.3220 - val_accuracy: 0.8881\n",
            "Epoch 24/40\n",
            "469/469 [==============================] - 1s 1ms/step - loss: 0.2432 - accuracy: 0.9083 - val_loss: 0.3162 - val_accuracy: 0.8919\n",
            "Epoch 25/40\n",
            "469/469 [==============================] - 1s 1ms/step - loss: 0.2383 - accuracy: 0.9096 - val_loss: 0.3175 - val_accuracy: 0.8892\n",
            "Epoch 26/40\n",
            "469/469 [==============================] - 1s 1ms/step - loss: 0.2389 - accuracy: 0.9114 - val_loss: 0.3190 - val_accuracy: 0.8908\n",
            "Epoch 27/40\n",
            "469/469 [==============================] - 1s 1ms/step - loss: 0.2350 - accuracy: 0.9120 - val_loss: 0.3268 - val_accuracy: 0.8907\n",
            "Epoch 28/40\n",
            "469/469 [==============================] - 1s 1ms/step - loss: 0.2278 - accuracy: 0.9145 - val_loss: 0.3233 - val_accuracy: 0.8909\n",
            "Epoch 29/40\n",
            "469/469 [==============================] - 1s 1ms/step - loss: 0.2267 - accuracy: 0.9153 - val_loss: 0.3226 - val_accuracy: 0.8931\n",
            "Epoch 30/40\n",
            "469/469 [==============================] - 1s 1ms/step - loss: 0.2228 - accuracy: 0.9154 - val_loss: 0.3357 - val_accuracy: 0.8883\n",
            "Epoch 31/40\n",
            "469/469 [==============================] - 1s 1ms/step - loss: 0.2259 - accuracy: 0.9140 - val_loss: 0.3243 - val_accuracy: 0.8899\n",
            "Epoch 32/40\n",
            "469/469 [==============================] - 1s 1ms/step - loss: 0.2198 - accuracy: 0.9145 - val_loss: 0.3207 - val_accuracy: 0.8945\n",
            "Epoch 33/40\n",
            "469/469 [==============================] - 1s 1ms/step - loss: 0.2176 - accuracy: 0.9186 - val_loss: 0.3211 - val_accuracy: 0.8935\n",
            "Epoch 34/40\n",
            "469/469 [==============================] - 1s 1ms/step - loss: 0.2136 - accuracy: 0.9188 - val_loss: 0.3223 - val_accuracy: 0.8919\n",
            "Epoch 35/40\n",
            "469/469 [==============================] - 1s 1ms/step - loss: 0.2174 - accuracy: 0.9191 - val_loss: 0.3134 - val_accuracy: 0.8963\n",
            "Epoch 36/40\n",
            "469/469 [==============================] - 1s 1ms/step - loss: 0.2060 - accuracy: 0.9205 - val_loss: 0.3186 - val_accuracy: 0.8917\n",
            "Epoch 37/40\n",
            "469/469 [==============================] - 1s 1ms/step - loss: 0.2114 - accuracy: 0.9199 - val_loss: 0.3229 - val_accuracy: 0.8955\n",
            "Epoch 38/40\n",
            "469/469 [==============================] - 1s 1ms/step - loss: 0.2100 - accuracy: 0.9213 - val_loss: 0.3219 - val_accuracy: 0.8950\n",
            "Epoch 39/40\n",
            "469/469 [==============================] - 1s 1ms/step - loss: 0.2036 - accuracy: 0.9236 - val_loss: 0.3256 - val_accuracy: 0.8961\n",
            "Epoch 40/40\n",
            "469/469 [==============================] - 1s 1ms/step - loss: 0.2089 - accuracy: 0.9224 - val_loss: 0.3313 - val_accuracy: 0.8946\n",
            "313/313 - 0s - loss: 0.3313 - accuracy: 0.8946\n",
            "\n",
            "Test accuracy: 0.894599974155426\n"
          ],
          "name": "stdout"
        }
      ]
    },
    {
      "cell_type": "markdown",
      "metadata": {
        "id": "zrf2AIG2gGa4"
      },
      "source": [
        "### CNN\n",
        "\n",
        "对于cv学习，采用CNN预期可以获得更好的准确率"
      ]
    },
    {
      "cell_type": "markdown",
      "metadata": {
        "id": "QJd-at_0gGa4"
      },
      "source": [
        "#### 扩展数据\n",
        "\n",
        "2D卷积层 Conv2D 的输入是一个四维张量：(batch, rows, cols, channels)，所以需要将图像数据拓展一个维度。"
      ]
    },
    {
      "cell_type": "code",
      "metadata": {
        "id": "mKtnO6ICgGa4"
      },
      "source": [
        "train_images = np.expand_dims(train_images, axis=3)\n",
        "test_images = np.expand_dims(test_images, axis=3)"
      ],
      "execution_count": null,
      "outputs": []
    },
    {
      "cell_type": "markdown",
      "metadata": {
        "id": "J-UCaXndgGa4"
      },
      "source": [
        "##### 构建模型"
      ]
    },
    {
      "cell_type": "code",
      "metadata": {
        "id": "EhdMDyiVgGa4"
      },
      "source": [
        "from tensorflow.keras import layers\n",
        "from tensorflow.keras import models\n",
        "\n",
        "def build_model_CNN():\n",
        "    model = models.Sequential()\n",
        "    model.add(layers.Conv2D(32, (3, 3), activation='relu', input_shape=(28, 28, 1)))\n",
        "    model.add(layers.MaxPooling2D((2, 2)))\n",
        "    model.add(layers.Conv2D(64, (3, 3), activation='relu'))\n",
        "    model.add(layers.MaxPooling2D((2, 2)))\n",
        "    model.add(layers.Conv2D(64, (3, 3), activation='relu'))\n",
        "    model.add(layers.Flatten())\n",
        "    model.add(layers.Dropout(0.3))\n",
        "    model.add(layers.Dense(64, activation='relu'))\n",
        "    model.add(layers.Dense(10, activation='softmax'))\n",
        "    model.summary()\n",
        "    model.compile(optimizer = 'adam',\n",
        "              loss = 'sparse_categorical_crossentropy',\n",
        "              metrics=['accuracy'])\n",
        "    return model"
      ],
      "execution_count": null,
      "outputs": []
    },
    {
      "cell_type": "markdown",
      "metadata": {
        "id": "NzTO0Y6jgGa5"
      },
      "source": [
        "##### 馈送数据 && 评估"
      ]
    },
    {
      "cell_type": "code",
      "metadata": {
        "id": "76Jbb1ENgGa5"
      },
      "source": [
        "def fit_data_CNN(model):\n",
        "    history = model.fit(train_images, train_labels, epochs=30, batch_size=128, \n",
        "                    validation_data=(test_images, test_labels), verbose=0)\n",
        "    return history"
      ],
      "execution_count": null,
      "outputs": []
    },
    {
      "cell_type": "markdown",
      "metadata": {
        "id": "zhaNL7TpgGa5"
      },
      "source": [
        "##### 运行模型"
      ]
    },
    {
      "cell_type": "code",
      "metadata": {
        "scrolled": false,
        "id": "dF3RA6GpgGa5",
        "outputId": "dbb9f8df-04a3-40ba-8588-3cc03124acdc"
      },
      "source": [
        "with tf.device(\"/gpu:0\"):\n",
        "    model_cnn = build_model_CNN()\n",
        "    res = fit_data_CNN(model_cnn)\n",
        "    visualize([res])"
      ],
      "execution_count": null,
      "outputs": [
        {
          "output_type": "stream",
          "text": [
            "Model: \"sequential_5\"\n",
            "_________________________________________________________________\n",
            "Layer (type)                 Output Shape              Param #   \n",
            "=================================================================\n",
            "conv2d (Conv2D)              (None, 26, 26, 32)        320       \n",
            "_________________________________________________________________\n",
            "max_pooling2d (MaxPooling2D) (None, 13, 13, 32)        0         \n",
            "_________________________________________________________________\n",
            "conv2d_1 (Conv2D)            (None, 11, 11, 64)        18496     \n",
            "_________________________________________________________________\n",
            "max_pooling2d_1 (MaxPooling2 (None, 5, 5, 64)          0         \n",
            "_________________________________________________________________\n",
            "conv2d_2 (Conv2D)            (None, 3, 3, 64)          36928     \n",
            "_________________________________________________________________\n",
            "flatten_5 (Flatten)          (None, 576)               0         \n",
            "_________________________________________________________________\n",
            "dropout_2 (Dropout)          (None, 576)               0         \n",
            "_________________________________________________________________\n",
            "dense_7 (Dense)              (None, 64)                36928     \n",
            "_________________________________________________________________\n",
            "dense_8 (Dense)              (None, 10)                650       \n",
            "=================================================================\n",
            "Total params: 93,322\n",
            "Trainable params: 93,322\n",
            "Non-trainable params: 0\n",
            "_________________________________________________________________\n",
            "Overfitting warning at epoch 15, val_loss: 0.230, val_accuracy: 0.914\n"
          ],
          "name": "stdout"
        },
        {
          "output_type": "display_data",
          "data": {
            "image/png": "[encoded data removed]",
            "text/plain": [
              "<Figure size 864x288 with 2 Axes>"
            ]
          },
          "metadata": {
            "tags": [],
            "needs_background": "light"
          }
        }
      ]
    }
  ]
}